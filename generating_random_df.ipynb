{
 "cells": [
  {
   "cell_type": "code",
   "execution_count": 1,
   "metadata": {},
   "outputs": [],
   "source": [
    "# Create BS Data"
   ]
  },
  {
   "cell_type": "code",
   "execution_count": 19,
   "metadata": {},
   "outputs": [],
   "source": [
    "import pandas as pd\n",
    "import numpy as np"
   ]
  },
  {
   "cell_type": "code",
   "execution_count": 20,
   "metadata": {},
   "outputs": [],
   "source": [
    "df = pd.DataFrame()"
   ]
  },
  {
   "cell_type": "code",
   "execution_count": 21,
   "metadata": {},
   "outputs": [],
   "source": [
    "start = pd.to_datetime('2021-01-01')\n",
    "end = pd.to_datetime('2021-12-31')"
   ]
  },
  {
   "cell_type": "code",
   "execution_count": 22,
   "metadata": {},
   "outputs": [],
   "source": [
    "def random_dates2(start, end, n, unit='D', seed=None):\n",
    "    if not seed:  # from piR's answer\n",
    "        np.random.seed(0)\n",
    "\n",
    "    ndays = (end - start).days + 1\n",
    "    return start + pd.to_timedelta(\n",
    "        np.random.randint(0, ndays, n), unit=unit\n",
    "    )"
   ]
  },
  {
   "cell_type": "code",
   "execution_count": 23,
   "metadata": {},
   "outputs": [],
   "source": [
    "def get_data(size = 10_000):\n",
    "    df['age'] = np.random.randint(0, 100, size)\n",
    "    df['time_spent_in_bed'] = np.random.randint(0, 9, size)\n",
    "    df['pct_sleeping'] = np.random.rand(size)\n",
    "    df['fav_food'] = np.random.choice(['pizzza', 'tacos', 'ice-cream'], size)\n",
    "    df['hate_food'] = np.random.choice(['broccoli', 'candy corn', 'ice-eggs'], size)\n",
    "    df['effectve_dt'] = random_dates2(start, end, size)\n",
    "    df['term_dt'] = random_dates2(start, end, size)\n",
    "    df['term_dt'] = random_dates2(start, end, size)\n",
    "    return df"
   ]
  },
  {
   "cell_type": "code",
   "execution_count": 24,
   "metadata": {},
   "outputs": [],
   "source": [
    "df = get_data()"
   ]
  },
  {
   "cell_type": "code",
   "execution_count": 25,
   "metadata": {},
   "outputs": [
    {
     "data": {
      "text/html": [
       "<div>\n",
       "<style scoped>\n",
       "    .dataframe tbody tr th:only-of-type {\n",
       "        vertical-align: middle;\n",
       "    }\n",
       "\n",
       "    .dataframe tbody tr th {\n",
       "        vertical-align: top;\n",
       "    }\n",
       "\n",
       "    .dataframe thead th {\n",
       "        text-align: right;\n",
       "    }\n",
       "</style>\n",
       "<table border=\"1\" class=\"dataframe\">\n",
       "  <thead>\n",
       "    <tr style=\"text-align: right;\">\n",
       "      <th></th>\n",
       "      <th>age</th>\n",
       "      <th>time_spent_in_bed</th>\n",
       "      <th>pct_sleeping</th>\n",
       "      <th>fav_food</th>\n",
       "      <th>hate_food</th>\n",
       "      <th>effectve_dt</th>\n",
       "      <th>term_dt</th>\n",
       "    </tr>\n",
       "  </thead>\n",
       "  <tbody>\n",
       "    <tr>\n",
       "      <th>0</th>\n",
       "      <td>58</td>\n",
       "      <td>7</td>\n",
       "      <td>0.549573</td>\n",
       "      <td>tacos</td>\n",
       "      <td>ice-eggs</td>\n",
       "      <td>2021-06-22</td>\n",
       "      <td>2021-06-22</td>\n",
       "    </tr>\n",
       "    <tr>\n",
       "      <th>1</th>\n",
       "      <td>21</td>\n",
       "      <td>6</td>\n",
       "      <td>0.108789</td>\n",
       "      <td>ice-cream</td>\n",
       "      <td>broccoli</td>\n",
       "      <td>2021-02-17</td>\n",
       "      <td>2021-02-17</td>\n",
       "    </tr>\n",
       "    <tr>\n",
       "      <th>2</th>\n",
       "      <td>85</td>\n",
       "      <td>6</td>\n",
       "      <td>0.485695</td>\n",
       "      <td>tacos</td>\n",
       "      <td>broccoli</td>\n",
       "      <td>2021-04-28</td>\n",
       "      <td>2021-04-28</td>\n",
       "    </tr>\n",
       "    <tr>\n",
       "      <th>3</th>\n",
       "      <td>23</td>\n",
       "      <td>6</td>\n",
       "      <td>0.529224</td>\n",
       "      <td>pizzza</td>\n",
       "      <td>ice-eggs</td>\n",
       "      <td>2021-07-12</td>\n",
       "      <td>2021-07-12</td>\n",
       "    </tr>\n",
       "    <tr>\n",
       "      <th>4</th>\n",
       "      <td>74</td>\n",
       "      <td>8</td>\n",
       "      <td>0.445491</td>\n",
       "      <td>ice-cream</td>\n",
       "      <td>candy corn</td>\n",
       "      <td>2021-11-20</td>\n",
       "      <td>2021-11-20</td>\n",
       "    </tr>\n",
       "    <tr>\n",
       "      <th>...</th>\n",
       "      <td>...</td>\n",
       "      <td>...</td>\n",
       "      <td>...</td>\n",
       "      <td>...</td>\n",
       "      <td>...</td>\n",
       "      <td>...</td>\n",
       "      <td>...</td>\n",
       "    </tr>\n",
       "    <tr>\n",
       "      <th>9995</th>\n",
       "      <td>93</td>\n",
       "      <td>1</td>\n",
       "      <td>0.125874</td>\n",
       "      <td>tacos</td>\n",
       "      <td>broccoli</td>\n",
       "      <td>2021-11-26</td>\n",
       "      <td>2021-11-26</td>\n",
       "    </tr>\n",
       "    <tr>\n",
       "      <th>9996</th>\n",
       "      <td>27</td>\n",
       "      <td>2</td>\n",
       "      <td>0.889944</td>\n",
       "      <td>ice-cream</td>\n",
       "      <td>ice-eggs</td>\n",
       "      <td>2021-10-08</td>\n",
       "      <td>2021-10-08</td>\n",
       "    </tr>\n",
       "    <tr>\n",
       "      <th>9997</th>\n",
       "      <td>52</td>\n",
       "      <td>5</td>\n",
       "      <td>0.838127</td>\n",
       "      <td>tacos</td>\n",
       "      <td>broccoli</td>\n",
       "      <td>2021-10-01</td>\n",
       "      <td>2021-10-01</td>\n",
       "    </tr>\n",
       "    <tr>\n",
       "      <th>9998</th>\n",
       "      <td>99</td>\n",
       "      <td>0</td>\n",
       "      <td>0.984207</td>\n",
       "      <td>pizzza</td>\n",
       "      <td>candy corn</td>\n",
       "      <td>2021-10-18</td>\n",
       "      <td>2021-10-18</td>\n",
       "    </tr>\n",
       "    <tr>\n",
       "      <th>9999</th>\n",
       "      <td>32</td>\n",
       "      <td>2</td>\n",
       "      <td>0.245932</td>\n",
       "      <td>pizzza</td>\n",
       "      <td>ice-eggs</td>\n",
       "      <td>2021-11-16</td>\n",
       "      <td>2021-11-16</td>\n",
       "    </tr>\n",
       "  </tbody>\n",
       "</table>\n",
       "<p>10000 rows × 7 columns</p>\n",
       "</div>"
      ],
      "text/plain": [
       "      age  time_spent_in_bed  pct_sleeping   fav_food   hate_food effectve_dt  \\\n",
       "0      58                  7      0.549573      tacos    ice-eggs  2021-06-22   \n",
       "1      21                  6      0.108789  ice-cream    broccoli  2021-02-17   \n",
       "2      85                  6      0.485695      tacos    broccoli  2021-04-28   \n",
       "3      23                  6      0.529224     pizzza    ice-eggs  2021-07-12   \n",
       "4      74                  8      0.445491  ice-cream  candy corn  2021-11-20   \n",
       "...   ...                ...           ...        ...         ...         ...   \n",
       "9995   93                  1      0.125874      tacos    broccoli  2021-11-26   \n",
       "9996   27                  2      0.889944  ice-cream    ice-eggs  2021-10-08   \n",
       "9997   52                  5      0.838127      tacos    broccoli  2021-10-01   \n",
       "9998   99                  0      0.984207     pizzza  candy corn  2021-10-18   \n",
       "9999   32                  2      0.245932     pizzza    ice-eggs  2021-11-16   \n",
       "\n",
       "        term_dt  \n",
       "0    2021-06-22  \n",
       "1    2021-02-17  \n",
       "2    2021-04-28  \n",
       "3    2021-07-12  \n",
       "4    2021-11-20  \n",
       "...         ...  \n",
       "9995 2021-11-26  \n",
       "9996 2021-10-08  \n",
       "9997 2021-10-01  \n",
       "9998 2021-10-18  \n",
       "9999 2021-11-16  \n",
       "\n",
       "[10000 rows x 7 columns]"
      ]
     },
     "execution_count": 25,
     "metadata": {},
     "output_type": "execute_result"
    }
   ],
   "source": [
    "df"
   ]
  },
  {
   "cell_type": "code",
   "execution_count": null,
   "metadata": {},
   "outputs": [],
   "source": []
  }
 ],
 "metadata": {
  "kernelspec": {
   "display_name": "Python 3.8.8 ('base')",
   "language": "python",
   "name": "python3"
  },
  "language_info": {
   "codemirror_mode": {
    "name": "ipython",
    "version": 3
   },
   "file_extension": ".py",
   "mimetype": "text/x-python",
   "name": "python",
   "nbconvert_exporter": "python",
   "pygments_lexer": "ipython3",
   "version": "3.8.8"
  },
  "orig_nbformat": 4,
  "vscode": {
   "interpreter": {
    "hash": "eb5728e61f9ae84cd62658fe6bd4ae8a40df05b759400ee5f927ef0c426ad66f"
   }
  }
 },
 "nbformat": 4,
 "nbformat_minor": 2
}
